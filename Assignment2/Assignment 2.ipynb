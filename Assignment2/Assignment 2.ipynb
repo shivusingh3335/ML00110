{
 "cells": [
  {
   "cell_type": "markdown",
   "metadata": {},
   "source": [
    "# Task 1\n"
   ]
  },
  {
   "cell_type": "markdown",
   "metadata": {},
   "source": [
    "1.1 Write a Python Program to implement your own myreduce() function which works exactly like Python's built-in function reduce()"
   ]
  },
  {
   "cell_type": "code",
   "execution_count": 1,
   "metadata": {},
   "outputs": [
    {
     "name": "stdout",
     "output_type": "stream",
     "text": [
      "Sum on list using myreduce function 6\n"
     ]
    }
   ],
   "source": [
    "#reduce(function, sequence[, initial])\n",
    "def myreduce(func, seq):\n",
    "    result = seq[0]\n",
    "    for i in seq[1:]:\n",
    "        result = func(result, i)\n",
    "    return result\n",
    "def sum(x,y):\n",
    "    return x + y\n",
    "l=[1,2,3]\n",
    "print (\"Sum on list using myreduce function \"   + str(myreduce(sum, l)))"
   ]
  },
  {
   "cell_type": "markdown",
   "metadata": {},
   "source": [
    "1.2 Write a Python program to implement your own myfilter() function which works exactly like Python's built-in function filter()\n"
   ]
  },
  {
   "cell_type": "code",
   "execution_count": 2,
   "metadata": {},
   "outputs": [
    {
     "name": "stdout",
     "output_type": "stream",
     "text": [
      "Filter only even number using myfilter function: [2, 4, 6, 8, 10]\n"
     ]
    }
   ],
   "source": [
    "def iseven(x):\n",
    "    if (x % 2==0): \n",
    "        return True \n",
    "    else: \n",
    "        return False\n",
    "#filter(function, iterable)\n",
    "def myfilter (anyfunc , sequence):\n",
    "    result = []\n",
    "    for item in sequence:\n",
    "        if anyfunc(item):\n",
    "            result.append(item)\n",
    "    return result\n",
    " \n",
    "l= [1,2,3,4,5,6,7,8,9,10]\n",
    "print (\"Filter only even number using myfilter function: \"  + str(myfilter(iseven,l)))"
   ]
  },
  {
   "cell_type": "raw",
   "metadata": {},
   "source": [
    "# 2.Implement List comprehensions to produce the following lists.\n",
    "Write List comprehensions to produce the following Lists\n",
    "['A', 'C', 'A', 'D', 'G', 'I', 'L', 'D']\n",
    "['x', 'xx', 'xxx', 'xxxx', 'y', 'yy', 'yyy', 'yyyy', 'z', 'zz', 'zzz', 'zzzz']\n",
    "['x', 'y', 'z', 'xx', 'yy', 'zz', 'xx', 'yy', 'zz', 'xxxx', 'yyyy', 'zzzz']\n",
    "[[2], [3], [4], [3], [4], [5], [4], [5], [6]]\n",
    "[[2, 3, 4, 5], [3, 4, 5, 6], [4, 5, 6, 7], [5, 6, 7, 8]]\n",
    "[(1, 1), (2, 1), (3, 1), (1, 2), (2, 2), (3, 2), (1, 3), (2, 3), (3, 3)]"
   ]
  },
  {
   "cell_type": "code",
   "execution_count": 3,
   "metadata": {},
   "outputs": [
    {
     "name": "stdout",
     "output_type": "stream",
     "text": [
      "['A', 'C', 'A', 'D', 'G', 'I', 'L', 'D']\n",
      "['x', 'xx', 'xxx', 'xxxx', 'y', 'yy', 'yyy', 'yyyy', 'z', 'zz', 'zzz', 'zzzz']\n",
      "[['x'], ['y'], ['z'], ['xx'], ['yy'], ['zz'], ['xxx'], ['yyy'], ['zzz'], ['xxxx'], ['yyyy'], ['zzzz']]\n",
      "[[2], [3], [4], [3], [4], [5], [4], [5], [6]]\n",
      "[[2, 3, 4, 5], [3, 4, 5, 6], [4, 5, 6, 7], [5, 6, 7, 8]]\n",
      "[(1, 1), (2, 1), (3, 1), (1, 2), (2, 2), (3, 2), (1, 3), (2, 3), (3, 3)]\n"
     ]
    }
   ],
   "source": [
    "l1=[i for i in 'ACADGILD']\n",
    "print(l1)\n",
    "input_list = ['x','y','z']\n",
    "l2 = [ item*num for item in input_list for num in range(1,5)]\n",
    "print(l2)\n",
    "l3=[ [item*num] for num in range(1,5) for item in input_list]\n",
    "print(l3)\n",
    "x=[2,3,4]\n",
    "l4=[[i+j] for i in x for j in range(0,3)]\n",
    "print(l4)\n",
    "x=[2,3,4,5]\n",
    "l4=[[i+j for i in x] for j in range(0,4)]\n",
    "print(l4)\n",
    "x=[1,2,3]\n",
    "l5=[(j,i) for i in x for j in x]\n",
    "print(l5)"
   ]
  },
  {
   "cell_type": "raw",
   "metadata": {},
   "source": [
    "3. Implement a function longestWord() that takes a list of words and returns the longest one."
   ]
  },
  {
   "cell_type": "code",
   "execution_count": 4,
   "metadata": {},
   "outputs": [
    {
     "name": "stdout",
     "output_type": "stream",
     "text": [
      "Enter the number of elements to insert in list:3\n",
      "Enter element1:shivam\n",
      "Enter element2:kumar\n",
      "Enter element3:singh\n",
      "The word with the longest length is: shivam\n"
     ]
    }
   ],
   "source": [
    "def longestWord(a):\n",
    "    max1=len(a[0])\n",
    "    temp=a[0]\n",
    "    for i in a:\n",
    "        if(len(i)>max1):\n",
    "           max1=len(i)\n",
    "           temp=i\n",
    "    print(\"The word with the longest length is: \"+ temp)\n",
    "    \n",
    "a=[]\n",
    "n= int(input(\"Enter the number of elements to insert in list:\"))\n",
    "for x in range(0,n):\n",
    "    element=input(\"Enter element\" + str(x+1) + \":\")\n",
    "    a.append(element)\n",
    "longestWord(a)\n"
   ]
  },
  {
   "cell_type": "markdown",
   "metadata": {},
   "source": [
    "# Task 2:\n",
    "1.1 Write a Python Program(with class concepts) to find the area of the triangle using the below formula.\n",
    "area = (s*(s-a)*(s-b)*(s-c)) ** 0.5\n",
    "Function to take the length of the sides of triangle from user should be defined in the parent\n",
    "class and function to calculate the area should be defined in subclass."
   ]
  },
  {
   "cell_type": "code",
   "execution_count": 21,
   "metadata": {},
   "outputs": [
    {
     "name": "stdout",
     "output_type": "stream",
     "text": [
      "Enter first side: 4\n",
      "Enter second side: 6\n",
      "Enter third side: 8\n",
      "area of triangle is: 67.5\n"
     ]
    }
   ],
   "source": [
    "class parent:\n",
    "    def __init__(self):\n",
    "        self.a = float(input('Enter first side: '))  \n",
    "        self.b = float(input('Enter second side: '))  \n",
    "        self.c = float(input('Enter third side: '))  \n",
    "\n",
    "class child(parent):\n",
    "    def area_triangle(self):\n",
    "        a=self.a\n",
    "        b=self.b\n",
    "        c=self.c\n",
    "        s = (a + b + c) / 2\n",
    "        #print(s)\n",
    "        area = (s*(s-a)*(s-b)*(s-c)) * 0.5\n",
    "        print(\"area of triangle is: \"+ str(area))\n",
    "        \n",
    "triangle=child()\n",
    "triangle.area_triangle()"
   ]
  },
  {
   "cell_type": "raw",
   "metadata": {},
   "source": [
    "1.2 Write a function filter_long_words() that takes a list of words and an integer n and returns the list\n",
    "of words that are longer than n."
   ]
  },
  {
   "cell_type": "code",
   "execution_count": 2,
   "metadata": {},
   "outputs": [
    {
     "name": "stdout",
     "output_type": "stream",
     "text": [
      "Enter the length 5\n",
      "['banana', 'cherry', 'orange']\n"
     ]
    }
   ],
   "source": [
    "def filter_long_words(list1,n):\n",
    "    l2=[w for w in list1 if len(w)>n]\n",
    "    #for i in list1:\n",
    "     #   if(len(i)>n):\n",
    "      #      l2.append(i)\n",
    "    return l2\n",
    "\n",
    "\n",
    "list1=[\"apple\", \"banana\", \"cherry\", \"orange\", \"kiwi\", \"melon\", \"mango\"]\n",
    "n=int(input(\"Enter the length \"))\n",
    "print(filter_long_words(list1,n))"
   ]
  },
  {
   "cell_type": "raw",
   "metadata": {},
   "source": [
    "2.1 Write a Python program using function concept that maps list of words into a list of integers representing the lengths of the corresponding words .\n",
    "Hint: If a list [ ab,cde,erty] is passed on to the python function output should come as [2,3,4]\n",
    "Here 2,3 and 4 are the lengths of the words in the list."
   ]
  },
  {
   "cell_type": "code",
   "execution_count": 7,
   "metadata": {},
   "outputs": [
    {
     "name": "stdout",
     "output_type": "stream",
     "text": [
      "length of element in the list are: [2, 3, 4]\n"
     ]
    }
   ],
   "source": [
    "def length(list1):\n",
    "    l2=[]\n",
    "    for i in list1:\n",
    "        l2.append(len(i))\n",
    "    print('length of element in the list are: '+ str(l2))\n",
    "    \n",
    "list1=['ab','cde','erty']\n",
    "length(list1)"
   ]
  },
  {
   "cell_type": "raw",
   "metadata": {},
   "source": [
    "2.2 Write a Python function which takes a character (i.e. a string of length 1) and returns True if it is a vowel, False otherwise."
   ]
  },
  {
   "cell_type": "code",
   "execution_count": 4,
   "metadata": {},
   "outputs": [
    {
     "name": "stdout",
     "output_type": "stream",
     "text": [
      "Enter the character: u\n",
      "True\n"
     ]
    }
   ],
   "source": [
    "def is_vowel(n):\n",
    "    #v=list(\"aeiouAEIOU\")\n",
    "    v=['a','e','i','o','u','A','E','I','O','U']\n",
    "    if n in v: return True\n",
    "    return False\n",
    "n=str(input(\"Enter the character: \"))\n",
    "print(is_vowel(n))"
   ]
  },
  {
   "cell_type": "code",
   "execution_count": null,
   "metadata": {},
   "outputs": [],
   "source": []
  }
 ],
 "metadata": {
  "kernelspec": {
   "display_name": "Python 3",
   "language": "python",
   "name": "python3"
  },
  "language_info": {
   "codemirror_mode": {
    "name": "ipython",
    "version": 3
   },
   "file_extension": ".py",
   "mimetype": "text/x-python",
   "name": "python",
   "nbconvert_exporter": "python",
   "pygments_lexer": "ipython3",
   "version": "3.7.3"
  }
 },
 "nbformat": 4,
 "nbformat_minor": 2
}
